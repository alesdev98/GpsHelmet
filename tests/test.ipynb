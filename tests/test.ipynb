{
 "cells": [
  {
   "cell_type": "code",
   "execution_count": 9,
   "metadata": {},
   "outputs": [],
   "source": [
    "from sys import path\n",
    "import gpiozero, time\n",
    "from PIL import Image, ImageDraw, ImageFont"
   ]
  },
  {
   "cell_type": "code",
   "execution_count": 2,
   "metadata": {},
   "outputs": [],
   "source": [
    "waveshare_OLED_lib = \"/home/ale/Desktop/APP/waveshare_OLED/lib\"\n",
    "waveshare_font = \"/home/ale/Desktop/APP/waveshare_OLED/pic/Font.ttc\""
   ]
  },
  {
   "cell_type": "code",
   "execution_count": 3,
   "metadata": {},
   "outputs": [],
   "source": [
    "# Add the path to the directory containing OLED_1in3\n",
    "path.append(waveshare_OLED_lib)\n",
    "\n",
    "# Now you can import the module\n",
    "import OLED_1in3 # type: ignore"
   ]
  },
  {
   "cell_type": "code",
   "execution_count": 4,
   "metadata": {},
   "outputs": [],
   "source": [
    "try:\n",
    "    disp = OLED_1in3.OLED_1in3()\n",
    "    disp.Init()\n",
    "except Exception as e:\n",
    "    print(e)"
   ]
  },
  {
   "cell_type": "code",
   "execution_count": 19,
   "metadata": {},
   "outputs": [],
   "source": [
    "font_size = 12\n",
    "text = \"Hello World\"\n",
    "\n",
    "try:\n",
    "    img = Image.new(mode='1', size=(disp.width, disp.height), color=\"WHITE\")\n",
    "    font = ImageFont.truetype(font=waveshare_font, size=font_size)\n",
    "    draw = ImageDraw.Draw(img)\n",
    "\n",
    "    draw.text((10, 10), text, font=font, fill=0)\n",
    "\n",
    "    img = img.rotate(180)\n",
    "    img = img.transpose(Image.FLIP_TOP_BOTTOM)\n",
    "    disp.ShowImage(disp.getbuffer(img))\n",
    "\n",
    "    time.sleep(2)\n",
    "    disp.clear()\n",
    "\n",
    "except Exception as e:\n",
    "    disp.clear()\n",
    "    disp.module_exit()"
   ]
  },
  {
   "cell_type": "code",
   "execution_count": null,
   "metadata": {},
   "outputs": [],
   "source": [
    "import cython_module.img as img # type: ignore\n",
    "\n",
    "# img.display_gif(f\"mappa.gif\",1)\n",
    "\n",
    "img.disp_clean()\n",
    "\n",
    "img.close_disp()"
   ]
  }
 ],
 "metadata": {
  "kernelspec": {
   "display_name": ".venv",
   "language": "python",
   "name": "python3"
  },
  "language_info": {
   "codemirror_mode": {
    "name": "ipython",
    "version": 3
   },
   "file_extension": ".py",
   "mimetype": "text/x-python",
   "name": "python",
   "nbconvert_exporter": "python",
   "pygments_lexer": "ipython3",
   "version": "3.11.2"
  }
 },
 "nbformat": 4,
 "nbformat_minor": 2
}
